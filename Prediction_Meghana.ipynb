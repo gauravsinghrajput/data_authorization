{
 "cells": [
  {
   "cell_type": "code",
   "execution_count": 1,
   "metadata": {
    "collapsed": true
   },
   "outputs": [],
   "source": [
    "import pandas as pd\n",
    "from sklearn.model_selection import train_test_split\n",
    "import numpy as np"
   ]
  },
  {
   "cell_type": "code",
   "execution_count": 2,
   "metadata": {
    "collapsed": true
   },
   "outputs": [],
   "source": [
    "df = pd.read_csv('data_for_modelcr1.csv')"
   ]
  },
  {
   "cell_type": "code",
   "execution_count": 3,
   "metadata": {
    "collapsed": false
   },
   "outputs": [
    {
     "data": {
      "text/html": [
       "<div>\n",
       "<table border=\"1\" class=\"dataframe\">\n",
       "  <thead>\n",
       "    <tr style=\"text-align: right;\">\n",
       "      <th></th>\n",
       "      <th>customer_class</th>\n",
       "      <th>log_price</th>\n",
       "      <th>no_of_items_in_cat</th>\n",
       "      <th>order_cat</th>\n",
       "      <th>order_num</th>\n",
       "    </tr>\n",
       "  </thead>\n",
       "  <tbody>\n",
       "    <tr>\n",
       "      <th>0</th>\n",
       "      <td>high_value</td>\n",
       "      <td>5.687992</td>\n",
       "      <td>7</td>\n",
       "      <td>Organic Fruits &amp;amp; Vegetables,Organic Vegeta...</td>\n",
       "      <td>20461</td>\n",
       "    </tr>\n",
       "    <tr>\n",
       "      <th>1</th>\n",
       "      <td>low_value</td>\n",
       "      <td>6.045005</td>\n",
       "      <td>3</td>\n",
       "      <td>Cold Pressed Oils,Cold Pressed Oils</td>\n",
       "      <td>20442</td>\n",
       "    </tr>\n",
       "    <tr>\n",
       "      <th>2</th>\n",
       "      <td>one_time_cust</td>\n",
       "      <td>5.112710</td>\n",
       "      <td>4</td>\n",
       "      <td>Fruits &amp;amp; Vegetables,Vegetables</td>\n",
       "      <td>20417</td>\n",
       "    </tr>\n",
       "    <tr>\n",
       "      <th>3</th>\n",
       "      <td>one_time_cust</td>\n",
       "      <td>5.112710</td>\n",
       "      <td>1</td>\n",
       "      <td>Fruits &amp;amp; Vegetables,Vegetables,Essential V...</td>\n",
       "      <td>20417</td>\n",
       "    </tr>\n",
       "    <tr>\n",
       "      <th>4</th>\n",
       "      <td>one_time_cust</td>\n",
       "      <td>3.676301</td>\n",
       "      <td>1</td>\n",
       "      <td>Fruits &amp;amp; Vegetables,Vegetables</td>\n",
       "      <td>20403</td>\n",
       "    </tr>\n",
       "  </tbody>\n",
       "</table>\n",
       "</div>"
      ],
      "text/plain": [
       "  customer_class  log_price  no_of_items_in_cat  \\\n",
       "0     high_value   5.687992                   7   \n",
       "1      low_value   6.045005                   3   \n",
       "2  one_time_cust   5.112710                   4   \n",
       "3  one_time_cust   5.112710                   1   \n",
       "4  one_time_cust   3.676301                   1   \n",
       "\n",
       "                                           order_cat  order_num  \n",
       "0  Organic Fruits &amp; Vegetables,Organic Vegeta...      20461  \n",
       "1                Cold Pressed Oils,Cold Pressed Oils      20442  \n",
       "2                 Fruits &amp; Vegetables,Vegetables      20417  \n",
       "3  Fruits &amp; Vegetables,Vegetables,Essential V...      20417  \n",
       "4                 Fruits &amp; Vegetables,Vegetables      20403  "
      ]
     },
     "execution_count": 3,
     "metadata": {},
     "output_type": "execute_result"
    }
   ],
   "source": [
    "df.head()"
   ]
  },
  {
   "cell_type": "markdown",
   "metadata": {},
   "source": [
    "# Reducing Category to Higher level category"
   ]
  },
  {
   "cell_type": "code",
   "execution_count": 4,
   "metadata": {
    "collapsed": true
   },
   "outputs": [],
   "source": [
    "cat_main = []\n",
    "for ev_man in df['order_cat']:\n",
    "    #print(ev_man)\n",
    "    cat_item = str(ev_man).split(',')[0].replace('&amp;','&')\n",
    "    cat_main.append(cat_item)\n",
    "df['cat_main'] = cat_main"
   ]
  },
  {
   "cell_type": "code",
   "execution_count": 5,
   "metadata": {
    "collapsed": false
   },
   "outputs": [
    {
     "data": {
      "text/html": [
       "<div>\n",
       "<table border=\"1\" class=\"dataframe\">\n",
       "  <thead>\n",
       "    <tr style=\"text-align: right;\">\n",
       "      <th></th>\n",
       "      <th>customer_class</th>\n",
       "      <th>log_price</th>\n",
       "      <th>no_of_items_in_cat</th>\n",
       "      <th>order_cat</th>\n",
       "      <th>order_num</th>\n",
       "      <th>cat_main</th>\n",
       "    </tr>\n",
       "  </thead>\n",
       "  <tbody>\n",
       "    <tr>\n",
       "      <th>0</th>\n",
       "      <td>high_value</td>\n",
       "      <td>5.687992</td>\n",
       "      <td>7</td>\n",
       "      <td>Organic Fruits &amp;amp; Vegetables,Organic Vegeta...</td>\n",
       "      <td>20461</td>\n",
       "      <td>Organic Fruits &amp; Vegetables</td>\n",
       "    </tr>\n",
       "    <tr>\n",
       "      <th>1</th>\n",
       "      <td>low_value</td>\n",
       "      <td>6.045005</td>\n",
       "      <td>3</td>\n",
       "      <td>Cold Pressed Oils,Cold Pressed Oils</td>\n",
       "      <td>20442</td>\n",
       "      <td>Cold Pressed Oils</td>\n",
       "    </tr>\n",
       "    <tr>\n",
       "      <th>2</th>\n",
       "      <td>one_time_cust</td>\n",
       "      <td>5.112710</td>\n",
       "      <td>4</td>\n",
       "      <td>Fruits &amp;amp; Vegetables,Vegetables</td>\n",
       "      <td>20417</td>\n",
       "      <td>Fruits &amp; Vegetables</td>\n",
       "    </tr>\n",
       "    <tr>\n",
       "      <th>3</th>\n",
       "      <td>one_time_cust</td>\n",
       "      <td>5.112710</td>\n",
       "      <td>1</td>\n",
       "      <td>Fruits &amp;amp; Vegetables,Vegetables,Essential V...</td>\n",
       "      <td>20417</td>\n",
       "      <td>Fruits &amp; Vegetables</td>\n",
       "    </tr>\n",
       "    <tr>\n",
       "      <th>4</th>\n",
       "      <td>one_time_cust</td>\n",
       "      <td>3.676301</td>\n",
       "      <td>1</td>\n",
       "      <td>Fruits &amp;amp; Vegetables,Vegetables</td>\n",
       "      <td>20403</td>\n",
       "      <td>Fruits &amp; Vegetables</td>\n",
       "    </tr>\n",
       "  </tbody>\n",
       "</table>\n",
       "</div>"
      ],
      "text/plain": [
       "  customer_class  log_price  no_of_items_in_cat  \\\n",
       "0     high_value   5.687992                   7   \n",
       "1      low_value   6.045005                   3   \n",
       "2  one_time_cust   5.112710                   4   \n",
       "3  one_time_cust   5.112710                   1   \n",
       "4  one_time_cust   3.676301                   1   \n",
       "\n",
       "                                           order_cat  order_num  \\\n",
       "0  Organic Fruits &amp; Vegetables,Organic Vegeta...      20461   \n",
       "1                Cold Pressed Oils,Cold Pressed Oils      20442   \n",
       "2                 Fruits &amp; Vegetables,Vegetables      20417   \n",
       "3  Fruits &amp; Vegetables,Vegetables,Essential V...      20417   \n",
       "4                 Fruits &amp; Vegetables,Vegetables      20403   \n",
       "\n",
       "                      cat_main  \n",
       "0  Organic Fruits & Vegetables  \n",
       "1            Cold Pressed Oils  \n",
       "2          Fruits & Vegetables  \n",
       "3          Fruits & Vegetables  \n",
       "4          Fruits & Vegetables  "
      ]
     },
     "execution_count": 5,
     "metadata": {},
     "output_type": "execute_result"
    }
   ],
   "source": [
    "df.head()"
   ]
  },
  {
   "cell_type": "markdown",
   "metadata": {},
   "source": [
    "# vectorizing the categories <-- This will be our X"
   ]
  },
  {
   "cell_type": "code",
   "execution_count": 6,
   "metadata": {
    "collapsed": false
   },
   "outputs": [],
   "source": [
    "new_df = pd.get_dummies(df['cat_main'])\n",
    "new_df['log_price'] = df['log_price']\n",
    "new_df['no_of_items_in_cat'] = df['no_of_items_in_cat']"
   ]
  },
  {
   "cell_type": "code",
   "execution_count": 7,
   "metadata": {
    "collapsed": false
   },
   "outputs": [
    {
     "data": {
      "text/html": [
       "<div>\n",
       "<table border=\"1\" class=\"dataframe\">\n",
       "  <thead>\n",
       "    <tr style=\"text-align: right;\">\n",
       "      <th></th>\n",
       "      <th>Atta &amp; Rice Varieties</th>\n",
       "      <th>Cold Pressed Oils</th>\n",
       "      <th>Dairy Products</th>\n",
       "      <th>Fruits &amp; Vegetables</th>\n",
       "      <th>Grocery</th>\n",
       "      <th>Home Care</th>\n",
       "      <th>Monthly Shopping List</th>\n",
       "      <th>Organic Fruits &amp; Vegetables</th>\n",
       "      <th>Organic Products</th>\n",
       "      <th>Personal Care - Head to Toe</th>\n",
       "      <th>Ready to Cook</th>\n",
       "      <th>Staples - Dal</th>\n",
       "      <th>nan</th>\n",
       "      <th>log_price</th>\n",
       "      <th>no_of_items_in_cat</th>\n",
       "    </tr>\n",
       "  </thead>\n",
       "  <tbody>\n",
       "    <tr>\n",
       "      <th>0</th>\n",
       "      <td>0</td>\n",
       "      <td>0</td>\n",
       "      <td>0</td>\n",
       "      <td>0</td>\n",
       "      <td>0</td>\n",
       "      <td>0</td>\n",
       "      <td>0</td>\n",
       "      <td>1</td>\n",
       "      <td>0</td>\n",
       "      <td>0</td>\n",
       "      <td>0</td>\n",
       "      <td>0</td>\n",
       "      <td>0</td>\n",
       "      <td>5.687992</td>\n",
       "      <td>7</td>\n",
       "    </tr>\n",
       "    <tr>\n",
       "      <th>1</th>\n",
       "      <td>0</td>\n",
       "      <td>1</td>\n",
       "      <td>0</td>\n",
       "      <td>0</td>\n",
       "      <td>0</td>\n",
       "      <td>0</td>\n",
       "      <td>0</td>\n",
       "      <td>0</td>\n",
       "      <td>0</td>\n",
       "      <td>0</td>\n",
       "      <td>0</td>\n",
       "      <td>0</td>\n",
       "      <td>0</td>\n",
       "      <td>6.045005</td>\n",
       "      <td>3</td>\n",
       "    </tr>\n",
       "    <tr>\n",
       "      <th>2</th>\n",
       "      <td>0</td>\n",
       "      <td>0</td>\n",
       "      <td>0</td>\n",
       "      <td>1</td>\n",
       "      <td>0</td>\n",
       "      <td>0</td>\n",
       "      <td>0</td>\n",
       "      <td>0</td>\n",
       "      <td>0</td>\n",
       "      <td>0</td>\n",
       "      <td>0</td>\n",
       "      <td>0</td>\n",
       "      <td>0</td>\n",
       "      <td>5.112710</td>\n",
       "      <td>4</td>\n",
       "    </tr>\n",
       "    <tr>\n",
       "      <th>3</th>\n",
       "      <td>0</td>\n",
       "      <td>0</td>\n",
       "      <td>0</td>\n",
       "      <td>1</td>\n",
       "      <td>0</td>\n",
       "      <td>0</td>\n",
       "      <td>0</td>\n",
       "      <td>0</td>\n",
       "      <td>0</td>\n",
       "      <td>0</td>\n",
       "      <td>0</td>\n",
       "      <td>0</td>\n",
       "      <td>0</td>\n",
       "      <td>5.112710</td>\n",
       "      <td>1</td>\n",
       "    </tr>\n",
       "    <tr>\n",
       "      <th>4</th>\n",
       "      <td>0</td>\n",
       "      <td>0</td>\n",
       "      <td>0</td>\n",
       "      <td>1</td>\n",
       "      <td>0</td>\n",
       "      <td>0</td>\n",
       "      <td>0</td>\n",
       "      <td>0</td>\n",
       "      <td>0</td>\n",
       "      <td>0</td>\n",
       "      <td>0</td>\n",
       "      <td>0</td>\n",
       "      <td>0</td>\n",
       "      <td>3.676301</td>\n",
       "      <td>1</td>\n",
       "    </tr>\n",
       "  </tbody>\n",
       "</table>\n",
       "</div>"
      ],
      "text/plain": [
       "   Atta & Rice Varieties  Cold Pressed Oils  Dairy Products  \\\n",
       "0                      0                  0               0   \n",
       "1                      0                  1               0   \n",
       "2                      0                  0               0   \n",
       "3                      0                  0               0   \n",
       "4                      0                  0               0   \n",
       "\n",
       "   Fruits & Vegetables  Grocery  Home Care  Monthly Shopping List  \\\n",
       "0                    0        0          0                      0   \n",
       "1                    0        0          0                      0   \n",
       "2                    1        0          0                      0   \n",
       "3                    1        0          0                      0   \n",
       "4                    1        0          0                      0   \n",
       "\n",
       "   Organic Fruits & Vegetables  Organic Products  Personal Care - Head to Toe  \\\n",
       "0                            1                 0                            0   \n",
       "1                            0                 0                            0   \n",
       "2                            0                 0                            0   \n",
       "3                            0                 0                            0   \n",
       "4                            0                 0                            0   \n",
       "\n",
       "   Ready to Cook  Staples - Dal  nan  log_price  no_of_items_in_cat  \n",
       "0              0              0    0   5.687992                   7  \n",
       "1              0              0    0   6.045005                   3  \n",
       "2              0              0    0   5.112710                   4  \n",
       "3              0              0    0   5.112710                   1  \n",
       "4              0              0    0   3.676301                   1  "
      ]
     },
     "execution_count": 7,
     "metadata": {},
     "output_type": "execute_result"
    }
   ],
   "source": [
    "new_df.head()"
   ]
  },
  {
   "cell_type": "markdown",
   "metadata": {},
   "source": [
    "# defining X & Y for prediction"
   ]
  },
  {
   "cell_type": "code",
   "execution_count": 8,
   "metadata": {
    "collapsed": true
   },
   "outputs": [],
   "source": [
    "X = new_df\n",
    "Y = df['customer_class']"
   ]
  },
  {
   "cell_type": "markdown",
   "metadata": {},
   "source": [
    "# dividing data for training & test"
   ]
  },
  {
   "cell_type": "code",
   "execution_count": 9,
   "metadata": {
    "collapsed": false
   },
   "outputs": [],
   "source": [
    "from sklearn.model_selection import train_test_split\n",
    "X_train, X_test, y_train, y_test = train_test_split(X, Y, random_state = 0)"
   ]
  },
  {
   "cell_type": "markdown",
   "metadata": {},
   "source": [
    "# Training the NB Classifier"
   ]
  },
  {
   "cell_type": "code",
   "execution_count": 10,
   "metadata": {
    "collapsed": true
   },
   "outputs": [],
   "source": [
    "from sklearn.naive_bayes import MultinomialNB\n",
    "clf = MultinomialNB().fit(X_train, y_train)"
   ]
  },
  {
   "cell_type": "markdown",
   "metadata": {},
   "source": [
    "# Testing the model"
   ]
  },
  {
   "cell_type": "code",
   "execution_count": 17,
   "metadata": {
    "collapsed": false
   },
   "outputs": [
    {
     "name": "stdout",
     "output_type": "stream",
     "text": [
      "Organic Fruits & Vegetables\n",
      "7\n",
      "5.687991789\n",
      "Cold Pressed Oils\n",
      "3\n",
      "6.045005314\n",
      "Fruits & Vegetables\n",
      "4\n",
      "5.112710419\n",
      "Fruits & Vegetables\n",
      "1\n",
      "5.112710419\n",
      "Fruits & Vegetables\n",
      "1\n",
      "3.676300672\n",
      "['high_value' 'one_time_cust' 'one_time_cust' 'one_time_cust'\n",
      " 'one_time_cust']\n"
     ]
    }
   ],
   "source": [
    "#Sample Testing\n",
    "for i,ev_row in df[:5].iterrows():\n",
    "    print(ev_row['cat_main'])\n",
    "    print(ev_row['no_of_items_in_cat'])\n",
    "    print(ev_row['log_price'])\n",
    "y1 = clf.predict(X[:5])\n",
    "print(y1)"
   ]
  },
  {
   "cell_type": "markdown",
   "metadata": {},
   "source": [
    "# Scoring the model"
   ]
  },
  {
   "cell_type": "code",
   "execution_count": 18,
   "metadata": {
    "collapsed": true
   },
   "outputs": [],
   "source": [
    "y_pred_class = clf.predict(X_test)"
   ]
  },
  {
   "cell_type": "code",
   "execution_count": 19,
   "metadata": {
    "collapsed": false
   },
   "outputs": [
    {
     "data": {
      "text/plain": [
       "0.8080229226361032"
      ]
     },
     "execution_count": 19,
     "metadata": {},
     "output_type": "execute_result"
    }
   ],
   "source": [
    "from sklearn import metrics\n",
    "metrics.accuracy_score(y_test,y_pred_class)"
   ]
  },
  {
   "cell_type": "markdown",
   "metadata": {},
   "source": [
    "# Checking confusion matrix"
   ]
  },
  {
   "cell_type": "code",
   "execution_count": 20,
   "metadata": {
    "collapsed": false
   },
   "outputs": [
    {
     "name": "stdout",
     "output_type": "stream",
     "text": [
      "[[ 12   0   0   6]\n",
      " [  3   1   0  35]\n",
      " [  0   0   0   3]\n",
      " [ 15   5   0 269]]\n"
     ]
    }
   ],
   "source": [
    "print(metrics.confusion_matrix(y_test, y_pred_class))"
   ]
  },
  {
   "cell_type": "code",
   "execution_count": 21,
   "metadata": {
    "collapsed": false
   },
   "outputs": [
    {
     "data": {
      "text/plain": [
       "array([0.75238095, 0.82857143, 0.81904762, 0.80952381, 0.80952381])"
      ]
     },
     "execution_count": 21,
     "metadata": {},
     "output_type": "execute_result"
    }
   ],
   "source": [
    "from sklearn.model_selection import cross_val_score\n",
    "from sklearn.model_selection import ShuffleSplit\n",
    "from sklearn.naive_bayes import MultinomialNB\n",
    "nb = MultinomialNB()\n",
    "shuffle_split = ShuffleSplit(n_splits=5)\n",
    "score = cross_val_score(nb, X_train, y_train, cv=shuffle_split)\n",
    "score"
   ]
  },
  {
   "cell_type": "code",
   "execution_count": 22,
   "metadata": {
    "collapsed": false
   },
   "outputs": [
    {
     "data": {
      "text/plain": [
       "0.8038095238095238"
      ]
     },
     "execution_count": 22,
     "metadata": {},
     "output_type": "execute_result"
    }
   ],
   "source": [
    "score.mean()"
   ]
  },
  {
   "cell_type": "markdown",
   "metadata": {},
   "source": [
    "# Testing with few other classifiers as well to check accuracy"
   ]
  },
  {
   "cell_type": "code",
   "execution_count": 23,
   "metadata": {
    "collapsed": false
   },
   "outputs": [
    {
     "data": {
      "image/png": "[encoded data removed]",
      "text/plain": [
       "<matplotlib.figure.Figure at 0x18bd4b68860>"
      ]
     },
     "metadata": {},
     "output_type": "display_data"
    }
   ],
   "source": [
    "import matplotlib.pyplot as plt\n",
    "plt.figure(figsize=(30,10))\n",
    "from sklearn.linear_model import LogisticRegression\n",
    "from sklearn.ensemble import RandomForestClassifier\n",
    "from sklearn.svm import LinearSVC\n",
    "from sklearn.model_selection import cross_val_score\n",
    "models = [\n",
    "    RandomForestClassifier(n_estimators=200, max_depth=3, random_state=0),\n",
    "    LinearSVC(),\n",
    "    MultinomialNB(),\n",
    "    LogisticRegression(random_state=0),\n",
    "]\n",
    "CV = 5\n",
    "cv_df = pd.DataFrame(index=range(CV * len(models)))\n",
    "entries = []\n",
    "for model in models:\n",
    "  model_name = model.__class__.__name__\n",
    "  accuracies = cross_val_score(model, X_train, y_train, scoring='accuracy', cv=CV)\n",
    "  for fold_idx, accuracy in enumerate(accuracies):\n",
    "    entries.append((model_name, fold_idx, accuracy))\n",
    "cv_df = pd.DataFrame(entries, columns=['model_name', 'fold_idx', 'accuracy'])\n",
    "import seaborn as sns\n",
    "sns.boxplot(x='model_name', y='accuracy', data=cv_df)\n",
    "sns.stripplot(x='model_name', y='accuracy', data=cv_df, \n",
    "              size=8, jitter=True, edgecolor=\"gray\", linewidth=2)\n",
    "\n",
    "plt.show()"
   ]
  },
  {
   "cell_type": "code",
   "execution_count": null,
   "metadata": {
    "collapsed": true
   },
   "outputs": [],
   "source": []
  }
 ],
 "metadata": {
  "kernelspec": {
   "display_name": "Python 3",
   "language": "python",
   "name": "python3"
  },
  "language_info": {
   "codemirror_mode": {
    "name": "ipython",
    "version": 3
   },
   "file_extension": ".py",
   "mimetype": "text/x-python",
   "name": "python",
   "nbconvert_exporter": "python",
   "pygments_lexer": "ipython3",
   "version": "3.5.2"
  }
 },
 "nbformat": 4,
 "nbformat_minor": 2
}
